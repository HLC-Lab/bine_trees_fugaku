{
 "cells": [
  {
   "cell_type": "code",
   "execution_count": 92,
   "metadata": {},
   "outputs": [
    {
     "name": "stdout",
     "output_type": "stream",
     "text": [
      "000000 000001 000010 000011 000100 000101 000110 000111 \n",
      "001000 001001 001010 001011 001100 001101 001110 001111 \n",
      "010000 010001 010010 010011 010100 010101 010110 010111 \n",
      "011000 011001 011010 011011 011100 011101 011110 011111 \n",
      "100000 100001 100010 100011 100100 100101 100110 100111 \n",
      "101000 101001 101010 101011 101100 101101 101110 101111 \n",
      "110000 110001 110010 110011 110100 110101 110110 110111 \n",
      "111000 111001 111010 111011 111100 111101 111110 111111 \n",
      "\n"
     ]
    }
   ],
   "source": [
    "k = 0\n",
    "for i in range(0, 8):\n",
    "    for j in range(0, 8):\n",
    "        print(\"{0:06b}\".format(k), end=\" \")\n",
    "        k += 1\n",
    "    print(\"\")\n",
    "print(\"\")"
   ]
  },
  {
   "cell_type": "code",
   "execution_count": 93,
   "metadata": {},
   "outputs": [
    {
     "name": "stdout",
     "output_type": "stream",
     "text": [
      "5\n",
      "3\n"
     ]
    }
   ],
   "source": [
    "import math\n",
    "a = 4 # Starts from 0\n",
    "i = 0 # Starts from 0\n",
    "p = 8\n",
    "pi = (a + (-1)**(a % 2)*(-1)**(i % 2)*2**math.floor(i/2)) % p\n",
    "pialt = (a + -1**(a+i)*2**math.floor(i/2)) % p\n",
    "print(pi)\n",
    "print(pialt)"
   ]
  },
  {
   "attachments": {},
   "cell_type": "markdown",
   "metadata": {},
   "source": [
    "# Common stuff"
   ]
  },
  {
   "cell_type": "code",
   "execution_count": 94,
   "metadata": {},
   "outputs": [],
   "source": [
    "import math\n",
    "import copy\n",
    "import random\n",
    "import numpy as np\n",
    "def get_coord_from_id(id, dimensions):\n",
    "    if len(dimensions) == 1:\n",
    "        return [id]\n",
    "    elif len(dimensions) == 2:\n",
    "        return [id // dimensions[1], id % dimensions[1]]\n",
    "    elif len(dimensions) == 3:\n",
    "        return [(id // dimensions[1]) % dimensions[0], id % dimensions[1], id // (dimensions[0]*dimensions[1])]\n",
    "\n",
    "def get_id_from_coord(coord, dimensions):\n",
    "    if len(dimensions) == 1:\n",
    "        return coord[0]\n",
    "    elif len(dimensions) == 2:\n",
    "        return coord[0]*dimensions[1] + coord[1]\n",
    "    else:\n",
    "        return int(coord[2]*(dimensions[0]*dimensions[1]) + get_id_from_coord(coord, dimensions[0:2]))\n",
    "\n",
    "def compute_expected_data_allreduce(data, p):\n",
    "    expected_res = np.zeros(p)\n",
    "    # Compute expected result (Each row is a host)\n",
    "    for i in range(0, p):\n",
    "        for j in range(0, p):\n",
    "            expected_res[i] += data[j][i]\n",
    "    return expected_res\n",
    "\n",
    "def get_distance(id, step, next_direction, dimensions):\n",
    "    distances = [1, 1, 3, 5, 11, 21, 43, 85] # Jacobsthal sequence!! (https://oeis.org/search?q=1%2C+1%2C+3%2C+5%2C+11%2C+21&language=english&go=Search)\n",
    "    dim = step % len(dimensions)\n",
    "    step_relative_to_dim = step // len(dimensions)\n",
    "    return (next_direction[id][dim])*distances[step_relative_to_dim]\n",
    "\n",
    "def get_peer(id, step, next_direction, dimensions):\n",
    "    distance = get_distance(id, step, next_direction, dimensions)\n",
    "    coord = get_coord_from_id(id, dimensions)\n",
    "    target_dim =  step % len(dimensions) # TODO: Extend for the cases where we start from different dimensions (multiported)\n",
    "    peer_coord = coord\n",
    "    peer_coord[target_dim] = (peer_coord[target_dim] + distance) % dimensions[target_dim]\n",
    "    return int(get_id_from_coord(peer_coord, dimensions))"
   ]
  },
  {
   "cell_type": "code",
   "execution_count": 95,
   "metadata": {},
   "outputs": [],
   "source": [
    "# Algo:\n",
    "# 1. I take the tuple representing the coordinates\n",
    "# 2. Each node proceeds one dimension at a time (in a synchronized way, e.g. x first, then y, then z)\n",
    "# 3. Once a dimension is decided, the decision is whether to go on the positive or negative direction. \n",
    "#    Let us suppose that in the first step everyone picks the x dimension. Even nodes on that dimension\n",
    "#    will send towards the positive direction, odd nodes towards the negative direction.\n",
    "\n",
    "dimensions = [16, 16, 16]\n",
    "#dimensions = [16]\n",
    "p = 1\n",
    "for d in dimensions:\n",
    "    p *= d\n",
    "\n",
    "data = np.zeros((p, p))\n",
    "next_direction = np.zeros((p, len(dimensions))) # For each dimension, each rank remembers on which direction it should send next time\n",
    "sum_of_distances = 0\n",
    "sum_of_distances_ref = 0\n",
    "bw_new = 0\n",
    "bw_ref = 0\n",
    "bw_ideal = 0\n",
    "\n",
    "# Set starting directions\n",
    "for i in range(0, p):\n",
    "    coord = get_coord_from_id(i, dimensions)\n",
    "    for c in range(0, len(coord)):\n",
    "        if coord[c] % 2 == 0:\n",
    "            next_direction[i][c] = 1\n",
    "        else:\n",
    "            next_direction[i][c] = -1\n",
    "\n",
    "# Initialize random starting data\n",
    "for i in range(0, p):\n",
    "    for j in range(0, p):\n",
    "        data[i][j] = random.randint(0, 100)\n",
    "\n",
    "expected_res = compute_expected_data_allreduce(data, p)\n",
    "\n",
    "for step in range(0, int(math.log2(p))):        \n",
    "    data_c = copy.deepcopy(data)\n",
    "    # Bit array to check that no one sends the same data to more than one node\n",
    "    recv_from = np.zeros(p)\n",
    "    for rank in range(0, p):                   \n",
    "        peer = get_peer(rank, step, next_direction, dimensions)         \n",
    "        next_direction[rank][step % len(dimensions)] *= -1\n",
    "        # Check that each node sends at most at one node\n",
    "        if recv_from[peer]:\n",
    "            print(\"Double recv\")\n",
    "            exit(-1)\n",
    "        #print(\"Step \" + str(i) + \": \" + str(j) + \"->\" + str(peer))\n",
    "        recv_from[peer] = 1\n",
    "        # Aggregate\n",
    "        for k in range(0, p):\n",
    "            data_c[rank][k] += data[peer][k]\n",
    "    # Check that everyone sent something\n",
    "    for k in range(0, p):\n",
    "        if not recv_from[k]:\n",
    "            print(\"Nosent\")\n",
    "            exit(-1)\n",
    "\n",
    "    # Compute some stats\n",
    "    distance = abs(get_distance(0, step, next_direction, dimensions))\n",
    "    sum_of_distances += distance         \n",
    "    bw_ideal += (1/2**(step+1)) \n",
    "    bw_new += (1/2**(step+1))*distance\n",
    "    if len(dimensions) == 1:\n",
    "        sum_of_distances_ref += 2**step\n",
    "        bw_ref += (1/2**(step+1))*2**step\n",
    "    elif len(dimensions) == 2:          \n",
    "        sum_of_distances_ref += 2**math.floor(step/2)\n",
    "        bw_ref += (1/2**(step+1))*2**math.floor(step/2)\n",
    "    elif len(dimensions) == 3:\n",
    "        sum_of_distances_ref += 2**math.floor(step/3)\n",
    "        bw_ref += (1/2**(step+1))*2**math.floor(step/3)\n",
    "    data = copy.deepcopy(data_c)\n",
    "# Check correctness of the result\n",
    "fail = False\n",
    "for i in range(0, p):\n",
    "    for j in range(0, p):\n",
    "        if data[i][j] != expected_res[j]:\n",
    "            print(\"FAIL!\")\n",
    "            exit(1)\n",
    "#print(data)\n",
    "#print(expected_res)\n",
    "print(\"Sum of distances: \" + str(sum_of_distances) + \" ref: \" + str(sum_of_distances_ref))\n",
    "print(\"Bw new: \" + str(bw_new) + \" bw ref: \" + str(bw_ref) + \" bw ideal: \" + str(bw_ideal))\n"
   ]
  }
 ],
 "metadata": {
  "kernelspec": {
   "display_name": "Python 3",
   "language": "python",
   "name": "python3"
  },
  "language_info": {
   "codemirror_mode": {
    "name": "ipython",
    "version": 3
   },
   "file_extension": ".py",
   "mimetype": "text/x-python",
   "name": "python",
   "nbconvert_exporter": "python",
   "pygments_lexer": "ipython3",
   "version": "3.10.10"
  },
  "orig_nbformat": 4,
  "vscode": {
   "interpreter": {
    "hash": "cc412f43460bde1a0598961e956915236b4f4d7ebd62cbfd882381da36fa3a21"
   }
  }
 },
 "nbformat": 4,
 "nbformat_minor": 2
}
